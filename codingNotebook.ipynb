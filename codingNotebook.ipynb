{
 "cells": [
  {
   "cell_type": "markdown",
   "id": "e057167d",
   "metadata": {},
   "source": [
    "# 설문결과 대시보드로 시각화 하기"
   ]
  },
  {
   "cell_type": "markdown",
   "id": "d6c3db7d",
   "metadata": {},
   "source": [
    "## 데이터 불러오기"
   ]
  },
  {
   "cell_type": "code",
   "execution_count": 2,
   "id": "5ea2ba89",
   "metadata": {},
   "outputs": [],
   "source": [
    "import pandas as pd\n",
    "import seaborn as sns\n",
    "import matplotlib\n",
    "import matplotlib.pyplot as plt\n",
    "import matplotlib.font_manager as fm\n",
    "matplotlib.rcParams['font.family'] = 'AppleGothic' # 리눅스 돋움체 설정\n",
    "matplotlib.rcParams['font.size'] = 15 # 폰트 크기\n",
    "matplotlib.rcParams['axes.unicode_minus'] = False  # - 마이너스 글꼴 오류 처리"
   ]
  },
  {
   "cell_type": "code",
   "execution_count": 3,
   "id": "359a5e26",
   "metadata": {},
   "outputs": [
    {
     "data": {
      "text/html": [
       "<div>\n",
       "<style scoped>\n",
       "    .dataframe tbody tr th:only-of-type {\n",
       "        vertical-align: middle;\n",
       "    }\n",
       "\n",
       "    .dataframe tbody tr th {\n",
       "        vertical-align: top;\n",
       "    }\n",
       "\n",
       "    .dataframe thead th {\n",
       "        text-align: right;\n",
       "    }\n",
       "</style>\n",
       "<table border=\"1\" class=\"dataframe\">\n",
       "  <thead>\n",
       "    <tr style=\"text-align: right;\">\n",
       "      <th></th>\n",
       "      <th>시간</th>\n",
       "      <th>참관여부</th>\n",
       "      <th>학년</th>\n",
       "      <th>반</th>\n",
       "      <th>만족도</th>\n",
       "      <th>학부모 의견</th>\n",
       "    </tr>\n",
       "  </thead>\n",
       "  <tbody>\n",
       "    <tr>\n",
       "      <th>0</th>\n",
       "      <td>2022. 4. 13 오후 12:12:54</td>\n",
       "      <td>네, 참관하였습니다.</td>\n",
       "      <td>2학년</td>\n",
       "      <td>4반</td>\n",
       "      <td>4.0</td>\n",
       "      <td>NaN</td>\n",
       "    </tr>\n",
       "    <tr>\n",
       "      <th>1</th>\n",
       "      <td>2022. 4. 13 오후 12:13:04</td>\n",
       "      <td>네, 참관하였습니다.</td>\n",
       "      <td>5학년</td>\n",
       "      <td>4반</td>\n",
       "      <td>4.0</td>\n",
       "      <td>NaN</td>\n",
       "    </tr>\n",
       "    <tr>\n",
       "      <th>2</th>\n",
       "      <td>2022. 4. 13 오후 12:13:05</td>\n",
       "      <td>네, 참관하였습니다.</td>\n",
       "      <td>5학년</td>\n",
       "      <td>4반</td>\n",
       "      <td>4.0</td>\n",
       "      <td>NaN</td>\n",
       "    </tr>\n",
       "    <tr>\n",
       "      <th>3</th>\n",
       "      <td>2022. 4. 13 오후 12:13:05</td>\n",
       "      <td>네, 참관하였습니다.</td>\n",
       "      <td>1학년</td>\n",
       "      <td>5반</td>\n",
       "      <td>3.0</td>\n",
       "      <td>NaN</td>\n",
       "    </tr>\n",
       "    <tr>\n",
       "      <th>4</th>\n",
       "      <td>2022. 4. 13 오후 12:13:09</td>\n",
       "      <td>네, 참관하였습니다.</td>\n",
       "      <td>4학년</td>\n",
       "      <td>2반</td>\n",
       "      <td>3.0</td>\n",
       "      <td>NaN</td>\n",
       "    </tr>\n",
       "  </tbody>\n",
       "</table>\n",
       "</div>"
      ],
      "text/plain": [
       "                        시간         참관여부   학년   반  만족도 학부모 의견\n",
       "0  2022. 4. 13 오후 12:12:54  네, 참관하였습니다.  2학년  4반  4.0    NaN\n",
       "1  2022. 4. 13 오후 12:13:04  네, 참관하였습니다.  5학년  4반  4.0    NaN\n",
       "2  2022. 4. 13 오후 12:13:05  네, 참관하였습니다.  5학년  4반  4.0    NaN\n",
       "3  2022. 4. 13 오후 12:13:05  네, 참관하였습니다.  1학년  5반  3.0    NaN\n",
       "4  2022. 4. 13 오후 12:13:09  네, 참관하였습니다.  4학년  2반  3.0    NaN"
      ]
     },
     "execution_count": 3,
     "metadata": {},
     "output_type": "execute_result"
    }
   ],
   "source": [
    "df = pd.read_csv(\"data.csv\")\n",
    "df = df.dropna(subset=['학년'])\n",
    "df.head()"
   ]
  },
  {
   "cell_type": "code",
   "execution_count": 79,
   "id": "eadac562",
   "metadata": {},
   "outputs": [],
   "source": [
    "# 칼럼에서 학년, 반 없애기\n",
    "df['학년'] = df['학년'].map(lambda x: x[0])\n",
    "df['반'] = df['반'].map(lambda x: x[0])"
   ]
  },
  {
   "cell_type": "markdown",
   "id": "7960d612",
   "metadata": {},
   "source": [
    "## 학급별 응답현황 - groupby"
   ]
  },
  {
   "cell_type": "code",
   "execution_count": 89,
   "id": "99df292d",
   "metadata": {},
   "outputs": [
    {
     "name": "stdout",
     "output_type": "stream",
     "text": [
      "  학년       만족도\n",
      "0  1  3.480000\n",
      "1  2  3.676471\n",
      "2  3  3.419355\n",
      "3  4  3.511628\n",
      "4  5  3.428571\n",
      "5  6  3.619048\n"
     ]
    },
    {
     "data": {
      "image/png": "[encoded data removed]",
      "text/plain": [
       "<Figure size 432x288 with 1 Axes>"
      ]
     },
     "metadata": {
      "needs_background": "light"
     },
     "output_type": "display_data"
    }
   ],
   "source": [
    "# 학년별 만족도 평균\n",
    "grouped_test = df.groupby(\"학년\").mean()\n",
    "grouped_test = grouped_test.reset_index()\n",
    "print(grouped_test)\n",
    "\n",
    "# 그래프로 나타내기\n",
    "sns.barplot(x=grouped_test.columns[0],\n",
    "           y=grouped_test.columns[1],\n",
    "            data=grouped_test,\n",
    "           )\n",
    "plt.ylim(3,4)\n",
    "plt.show()"
   ]
  },
  {
   "cell_type": "code",
   "execution_count": 18,
   "id": "dbfc5f2e",
   "metadata": {},
   "outputs": [],
   "source": [
    "# 칼럼 숫자로 그룹짓기\n",
    "grouped_grade = df.groupby(df.columns[2]).mean()"
   ]
  },
  {
   "cell_type": "code",
   "execution_count": 20,
   "id": "c1d3341f",
   "metadata": {},
   "outputs": [
    {
     "data": {
      "text/plain": [
       "['1학년', '2학년', '3학년', '4학년', '5학년', '6학년']"
      ]
     },
     "execution_count": 20,
     "metadata": {},
     "output_type": "execute_result"
    }
   ],
   "source": [
    "list(grouped_grade.index)"
   ]
  },
  {
   "cell_type": "code",
   "execution_count": 95,
   "id": "3e1bee92",
   "metadata": {},
   "outputs": [
    {
     "name": "stdout",
     "output_type": "stream",
     "text": [
      "   학년  반       만족도  학급\n",
      "0   1  1  3.125000  11\n",
      "1   1  2  3.571429  12\n",
      "2   1  3  3.500000  13\n",
      "3   1  4  3.777778  14\n",
      "4   1  5  3.428571  15\n",
      "5   2  1  4.000000  21\n",
      "6   2  2  3.800000  22\n",
      "7   2  3  3.400000  23\n",
      "8   2  4  3.625000  24\n",
      "9   3  1  2.333333  31\n",
      "10  3  2  4.000000  32\n",
      "11  3  3  3.818182  33\n",
      "12  3  4  3.222222  34\n",
      "13  3  5  2.666667  35\n",
      "14  4  1  4.000000  41\n",
      "15  4  2  3.600000  42\n",
      "16  4  3  3.000000  43\n",
      "17  4  4  3.625000  44\n",
      "18  4  5  3.750000  45\n",
      "19  4  6  3.300000  46\n",
      "20  5  1  3.375000  51\n",
      "21  5  2  2.000000  52\n",
      "22  5  3  4.000000  53\n",
      "23  5  4  3.500000  54\n",
      "24  5  5  3.714286  55\n",
      "25  5  도  4.000000  5도\n",
      "26  6  1  3.666667  61\n",
      "27  6  2  3.750000  62\n",
      "28  6  3  3.714286  63\n",
      "29  6  4  4.000000  64\n",
      "30  6  5  3.333333  65\n"
     ]
    }
   ],
   "source": [
    "# 학급별 만족도\n",
    "grouped_classes = df.groupby([\"학년\", \"반\"]).mean()\n",
    "grouped_classes = grouped_classes.reset_index()\n",
    "grouped_classes['학급'] = grouped_classes['학년'] + grouped_classes['반']\n",
    "print(grouped_classes)"
   ]
  },
  {
   "cell_type": "code",
   "execution_count": 108,
   "id": "f785dbe6",
   "metadata": {},
   "outputs": [
    {
     "data": {
      "image/png": "[encoded data removed]",
      "text/plain": [
       "<Figure size 1080x432 with 1 Axes>"
      ]
     },
     "metadata": {
      "needs_background": "light"
     },
     "output_type": "display_data"
    }
   ],
   "source": [
    "# 그래프로 나타내기\n",
    "plt.figure(figsize=(15,6))\n",
    "sns.barplot(x=grouped_classes.columns[3],\n",
    "           y=grouped_classes.columns[2],\n",
    "            data=grouped_classes,\n",
    "           )\n",
    "plt.ylim(0,4.2)\n",
    "plt.xticks(rotation=90)\n",
    "plt.show()"
   ]
  },
  {
   "cell_type": "code",
   "execution_count": 21,
   "id": "db5a9174",
   "metadata": {},
   "outputs": [
    {
     "data": {
      "text/html": [
       "<div>\n",
       "<style scoped>\n",
       "    .dataframe tbody tr th:only-of-type {\n",
       "        vertical-align: middle;\n",
       "    }\n",
       "\n",
       "    .dataframe tbody tr th {\n",
       "        vertical-align: top;\n",
       "    }\n",
       "\n",
       "    .dataframe thead th {\n",
       "        text-align: right;\n",
       "    }\n",
       "</style>\n",
       "<table border=\"1\" class=\"dataframe\">\n",
       "  <thead>\n",
       "    <tr style=\"text-align: right;\">\n",
       "      <th></th>\n",
       "      <th>학년</th>\n",
       "      <th>응답수</th>\n",
       "    </tr>\n",
       "  </thead>\n",
       "  <tbody>\n",
       "    <tr>\n",
       "      <th>0</th>\n",
       "      <td>1학년</td>\n",
       "      <td>50</td>\n",
       "    </tr>\n",
       "    <tr>\n",
       "      <th>1</th>\n",
       "      <td>2학년</td>\n",
       "      <td>34</td>\n",
       "    </tr>\n",
       "    <tr>\n",
       "      <th>2</th>\n",
       "      <td>3학년</td>\n",
       "      <td>31</td>\n",
       "    </tr>\n",
       "    <tr>\n",
       "      <th>3</th>\n",
       "      <td>4학년</td>\n",
       "      <td>43</td>\n",
       "    </tr>\n",
       "    <tr>\n",
       "      <th>4</th>\n",
       "      <td>5학년</td>\n",
       "      <td>28</td>\n",
       "    </tr>\n",
       "    <tr>\n",
       "      <th>5</th>\n",
       "      <td>6학년</td>\n",
       "      <td>21</td>\n",
       "    </tr>\n",
       "  </tbody>\n",
       "</table>\n",
       "</div>"
      ],
      "text/plain": [
       "    학년  응답수\n",
       "0  1학년   50\n",
       "1  2학년   34\n",
       "2  3학년   31\n",
       "3  4학년   43\n",
       "4  5학년   28\n",
       "5  6학년   21"
      ]
     },
     "execution_count": 21,
     "metadata": {},
     "output_type": "execute_result"
    }
   ],
   "source": [
    "# 학년별 응답현황 카운트\n",
    "df.groupby([\"학년\"]).size().reset_index(name=\"응답수\")"
   ]
  },
  {
   "cell_type": "code",
   "execution_count": 22,
   "id": "4af770bd",
   "metadata": {},
   "outputs": [
    {
     "data": {
      "text/html": [
       "<div>\n",
       "<style scoped>\n",
       "    .dataframe tbody tr th:only-of-type {\n",
       "        vertical-align: middle;\n",
       "    }\n",
       "\n",
       "    .dataframe tbody tr th {\n",
       "        vertical-align: top;\n",
       "    }\n",
       "\n",
       "    .dataframe thead th {\n",
       "        text-align: right;\n",
       "    }\n",
       "</style>\n",
       "<table border=\"1\" class=\"dataframe\">\n",
       "  <thead>\n",
       "    <tr style=\"text-align: right;\">\n",
       "      <th></th>\n",
       "      <th>학년</th>\n",
       "      <th>반</th>\n",
       "      <th>응답수</th>\n",
       "    </tr>\n",
       "  </thead>\n",
       "  <tbody>\n",
       "    <tr>\n",
       "      <th>0</th>\n",
       "      <td>1학년</td>\n",
       "      <td>1반</td>\n",
       "      <td>8</td>\n",
       "    </tr>\n",
       "    <tr>\n",
       "      <th>1</th>\n",
       "      <td>1학년</td>\n",
       "      <td>2반</td>\n",
       "      <td>7</td>\n",
       "    </tr>\n",
       "    <tr>\n",
       "      <th>2</th>\n",
       "      <td>1학년</td>\n",
       "      <td>3반</td>\n",
       "      <td>12</td>\n",
       "    </tr>\n",
       "    <tr>\n",
       "      <th>3</th>\n",
       "      <td>1학년</td>\n",
       "      <td>4반</td>\n",
       "      <td>9</td>\n",
       "    </tr>\n",
       "    <tr>\n",
       "      <th>4</th>\n",
       "      <td>1학년</td>\n",
       "      <td>5반</td>\n",
       "      <td>14</td>\n",
       "    </tr>\n",
       "    <tr>\n",
       "      <th>5</th>\n",
       "      <td>2학년</td>\n",
       "      <td>1반</td>\n",
       "      <td>6</td>\n",
       "    </tr>\n",
       "    <tr>\n",
       "      <th>6</th>\n",
       "      <td>2학년</td>\n",
       "      <td>2반</td>\n",
       "      <td>10</td>\n",
       "    </tr>\n",
       "    <tr>\n",
       "      <th>7</th>\n",
       "      <td>2학년</td>\n",
       "      <td>3반</td>\n",
       "      <td>10</td>\n",
       "    </tr>\n",
       "    <tr>\n",
       "      <th>8</th>\n",
       "      <td>2학년</td>\n",
       "      <td>4반</td>\n",
       "      <td>8</td>\n",
       "    </tr>\n",
       "    <tr>\n",
       "      <th>9</th>\n",
       "      <td>3학년</td>\n",
       "      <td>1반</td>\n",
       "      <td>3</td>\n",
       "    </tr>\n",
       "    <tr>\n",
       "      <th>10</th>\n",
       "      <td>3학년</td>\n",
       "      <td>2반</td>\n",
       "      <td>5</td>\n",
       "    </tr>\n",
       "    <tr>\n",
       "      <th>11</th>\n",
       "      <td>3학년</td>\n",
       "      <td>3반</td>\n",
       "      <td>11</td>\n",
       "    </tr>\n",
       "    <tr>\n",
       "      <th>12</th>\n",
       "      <td>3학년</td>\n",
       "      <td>4반</td>\n",
       "      <td>9</td>\n",
       "    </tr>\n",
       "    <tr>\n",
       "      <th>13</th>\n",
       "      <td>3학년</td>\n",
       "      <td>5반</td>\n",
       "      <td>3</td>\n",
       "    </tr>\n",
       "    <tr>\n",
       "      <th>14</th>\n",
       "      <td>4학년</td>\n",
       "      <td>1반</td>\n",
       "      <td>5</td>\n",
       "    </tr>\n",
       "    <tr>\n",
       "      <th>15</th>\n",
       "      <td>4학년</td>\n",
       "      <td>2반</td>\n",
       "      <td>5</td>\n",
       "    </tr>\n",
       "    <tr>\n",
       "      <th>16</th>\n",
       "      <td>4학년</td>\n",
       "      <td>3반</td>\n",
       "      <td>7</td>\n",
       "    </tr>\n",
       "    <tr>\n",
       "      <th>17</th>\n",
       "      <td>4학년</td>\n",
       "      <td>4반</td>\n",
       "      <td>8</td>\n",
       "    </tr>\n",
       "    <tr>\n",
       "      <th>18</th>\n",
       "      <td>4학년</td>\n",
       "      <td>5반</td>\n",
       "      <td>8</td>\n",
       "    </tr>\n",
       "    <tr>\n",
       "      <th>19</th>\n",
       "      <td>4학년</td>\n",
       "      <td>6반</td>\n",
       "      <td>10</td>\n",
       "    </tr>\n",
       "    <tr>\n",
       "      <th>20</th>\n",
       "      <td>5학년</td>\n",
       "      <td>1반</td>\n",
       "      <td>8</td>\n",
       "    </tr>\n",
       "    <tr>\n",
       "      <th>21</th>\n",
       "      <td>5학년</td>\n",
       "      <td>2반</td>\n",
       "      <td>3</td>\n",
       "    </tr>\n",
       "    <tr>\n",
       "      <th>22</th>\n",
       "      <td>5학년</td>\n",
       "      <td>3반</td>\n",
       "      <td>3</td>\n",
       "    </tr>\n",
       "    <tr>\n",
       "      <th>23</th>\n",
       "      <td>5학년</td>\n",
       "      <td>4반</td>\n",
       "      <td>6</td>\n",
       "    </tr>\n",
       "    <tr>\n",
       "      <th>24</th>\n",
       "      <td>5학년</td>\n",
       "      <td>5반</td>\n",
       "      <td>7</td>\n",
       "    </tr>\n",
       "    <tr>\n",
       "      <th>25</th>\n",
       "      <td>5학년</td>\n",
       "      <td>도담반</td>\n",
       "      <td>1</td>\n",
       "    </tr>\n",
       "    <tr>\n",
       "      <th>26</th>\n",
       "      <td>6학년</td>\n",
       "      <td>1반</td>\n",
       "      <td>3</td>\n",
       "    </tr>\n",
       "    <tr>\n",
       "      <th>27</th>\n",
       "      <td>6학년</td>\n",
       "      <td>2반</td>\n",
       "      <td>4</td>\n",
       "    </tr>\n",
       "    <tr>\n",
       "      <th>28</th>\n",
       "      <td>6학년</td>\n",
       "      <td>3반</td>\n",
       "      <td>7</td>\n",
       "    </tr>\n",
       "    <tr>\n",
       "      <th>29</th>\n",
       "      <td>6학년</td>\n",
       "      <td>4반</td>\n",
       "      <td>1</td>\n",
       "    </tr>\n",
       "    <tr>\n",
       "      <th>30</th>\n",
       "      <td>6학년</td>\n",
       "      <td>5반</td>\n",
       "      <td>6</td>\n",
       "    </tr>\n",
       "  </tbody>\n",
       "</table>\n",
       "</div>"
      ],
      "text/plain": [
       "     학년    반  응답수\n",
       "0   1학년   1반    8\n",
       "1   1학년   2반    7\n",
       "2   1학년   3반   12\n",
       "3   1학년   4반    9\n",
       "4   1학년   5반   14\n",
       "5   2학년   1반    6\n",
       "6   2학년   2반   10\n",
       "7   2학년   3반   10\n",
       "8   2학년   4반    8\n",
       "9   3학년   1반    3\n",
       "10  3학년   2반    5\n",
       "11  3학년   3반   11\n",
       "12  3학년   4반    9\n",
       "13  3학년   5반    3\n",
       "14  4학년   1반    5\n",
       "15  4학년   2반    5\n",
       "16  4학년   3반    7\n",
       "17  4학년   4반    8\n",
       "18  4학년   5반    8\n",
       "19  4학년   6반   10\n",
       "20  5학년   1반    8\n",
       "21  5학년   2반    3\n",
       "22  5학년   3반    3\n",
       "23  5학년   4반    6\n",
       "24  5학년   5반    7\n",
       "25  5학년  도담반    1\n",
       "26  6학년   1반    3\n",
       "27  6학년   2반    4\n",
       "28  6학년   3반    7\n",
       "29  6학년   4반    1\n",
       "30  6학년   5반    6"
      ]
     },
     "execution_count": 22,
     "metadata": {},
     "output_type": "execute_result"
    }
   ],
   "source": [
    "# 학년별 응답현황 카운트\n",
    "df.groupby([\"학년\",'반']).size().reset_index(name=\"응답수\")"
   ]
  },
  {
   "cell_type": "markdown",
   "id": "4163cf6f",
   "metadata": {},
   "source": [
    "## 워드클라우드 변환"
   ]
  },
  {
   "cell_type": "code",
   "execution_count": 7,
   "id": "297bcbb3",
   "metadata": {},
   "outputs": [
    {
     "data": {
      "text/html": [
       "<div>\n",
       "<style scoped>\n",
       "    .dataframe tbody tr th:only-of-type {\n",
       "        vertical-align: middle;\n",
       "    }\n",
       "\n",
       "    .dataframe tbody tr th {\n",
       "        vertical-align: top;\n",
       "    }\n",
       "\n",
       "    .dataframe thead th {\n",
       "        text-align: right;\n",
       "    }\n",
       "</style>\n",
       "<table border=\"1\" class=\"dataframe\">\n",
       "  <thead>\n",
       "    <tr style=\"text-align: right;\">\n",
       "      <th></th>\n",
       "      <th>시간</th>\n",
       "      <th>참관여부</th>\n",
       "      <th>학년</th>\n",
       "      <th>반</th>\n",
       "      <th>만족도</th>\n",
       "      <th>학부모 의견</th>\n",
       "    </tr>\n",
       "  </thead>\n",
       "  <tbody>\n",
       "    <tr>\n",
       "      <th>12</th>\n",
       "      <td>2022. 4. 13 오후 12:13:22</td>\n",
       "      <td>네, 참관하였습니다.</td>\n",
       "      <td>3학년</td>\n",
       "      <td>2반</td>\n",
       "      <td>4.0</td>\n",
       "      <td>고생하셨습니다</td>\n",
       "    </tr>\n",
       "    <tr>\n",
       "      <th>16</th>\n",
       "      <td>2022. 4. 13 오후 12:13:36</td>\n",
       "      <td>네, 참관하였습니다.</td>\n",
       "      <td>6학년</td>\n",
       "      <td>2반</td>\n",
       "      <td>3.0</td>\n",
       "      <td>수고하셨습니다~~</td>\n",
       "    </tr>\n",
       "    <tr>\n",
       "      <th>17</th>\n",
       "      <td>2022. 4. 13 오후 12:13:36</td>\n",
       "      <td>네, 참관하였습니다.</td>\n",
       "      <td>3학년</td>\n",
       "      <td>4반</td>\n",
       "      <td>4.0</td>\n",
       "      <td>고생하셨습니다</td>\n",
       "    </tr>\n",
       "    <tr>\n",
       "      <th>19</th>\n",
       "      <td>2022. 4. 13 오후 12:13:49</td>\n",
       "      <td>네, 참관하였습니다.</td>\n",
       "      <td>4학년</td>\n",
       "      <td>2반</td>\n",
       "      <td>3.0</td>\n",
       "      <td>소리가 잘 안들렸지만 열심히 하는 모습이 보기 좋았습니다</td>\n",
       "    </tr>\n",
       "    <tr>\n",
       "      <th>21</th>\n",
       "      <td>2022. 4. 13 오후 12:13:53</td>\n",
       "      <td>네, 참관하였습니다.</td>\n",
       "      <td>2학년</td>\n",
       "      <td>2반</td>\n",
       "      <td>4.0</td>\n",
       "      <td>아이들이랑 선생님이랑 참여도 아주 좋아보였습니다</td>\n",
       "    </tr>\n",
       "  </tbody>\n",
       "</table>\n",
       "</div>"
      ],
      "text/plain": [
       "                         시간         참관여부   학년   반  만족도  \\\n",
       "12  2022. 4. 13 오후 12:13:22  네, 참관하였습니다.  3학년  2반  4.0   \n",
       "16  2022. 4. 13 오후 12:13:36  네, 참관하였습니다.  6학년  2반  3.0   \n",
       "17  2022. 4. 13 오후 12:13:36  네, 참관하였습니다.  3학년  4반  4.0   \n",
       "19  2022. 4. 13 오후 12:13:49  네, 참관하였습니다.  4학년  2반  3.0   \n",
       "21  2022. 4. 13 오후 12:13:53  네, 참관하였습니다.  2학년  2반  4.0   \n",
       "\n",
       "                             학부모 의견  \n",
       "12                          고생하셨습니다  \n",
       "16                        수고하셨습니다~~  \n",
       "17                          고생하셨습니다  \n",
       "19  소리가 잘 안들렸지만 열심히 하는 모습이 보기 좋았습니다  \n",
       "21       아이들이랑 선생님이랑 참여도 아주 좋아보였습니다  "
      ]
     },
     "execution_count": 7,
     "metadata": {},
     "output_type": "execute_result"
    }
   ],
   "source": [
    "df_wordcloud = df.dropna(subset=['학부모 의견'])\n",
    "df_wordcloud.head()"
   ]
  },
  {
   "cell_type": "code",
   "execution_count": 10,
   "id": "c17bc11e",
   "metadata": {},
   "outputs": [
    {
     "data": {
      "text/plain": [
       "['고생하셨습니다',\n",
       " '수고하셨습니다~~',\n",
       " '고생하셨습니다',\n",
       " '소리가 잘 안들렸지만 열심히 하는 모습이 보기 좋았습니다',\n",
       " '아이들이랑 선생님이랑 참여도 아주 좋아보였습니다']"
      ]
     },
     "execution_count": 10,
     "metadata": {},
     "output_type": "execute_result"
    }
   ],
   "source": [
    "lst_lines = list(df_wordcloud['학부모 의견'])\n",
    "lst_lines[:5]"
   ]
  },
  {
   "cell_type": "code",
   "execution_count": 14,
   "id": "1e08b9fc",
   "metadata": {},
   "outputs": [],
   "source": [
    "lines = \" \".join(lst_lines) #학부모 의견 말뭉치 생성 리스트 → 텍스트"
   ]
  },
  {
   "cell_type": "code",
   "execution_count": 15,
   "id": "8ceeca32",
   "metadata": {},
   "outputs": [],
   "source": [
    "# 말뭉치 처리 라이브러리 설치\n",
    "from konlpy.tag import Okt\n",
    "from collections import Counter"
   ]
  },
  {
   "cell_type": "code",
   "execution_count": 16,
   "id": "68d81d50",
   "metadata": {},
   "outputs": [],
   "source": [
    "okt = Okt()"
   ]
  },
  {
   "cell_type": "code",
   "execution_count": 18,
   "id": "ec0c3cb2",
   "metadata": {},
   "outputs": [],
   "source": [
    "line = okt.pos(lines)"
   ]
  },
  {
   "cell_type": "code",
   "execution_count": null,
   "id": "cf1cdf71",
   "metadata": {},
   "outputs": [],
   "source": []
  }
 ],
 "metadata": {
  "kernelspec": {
   "display_name": "Python 3 (ipykernel)",
   "language": "python",
   "name": "python3"
  },
  "language_info": {
   "codemirror_mode": {
    "name": "ipython",
    "version": 3
   },
   "file_extension": ".py",
   "mimetype": "text/x-python",
   "name": "python",
   "nbconvert_exporter": "python",
   "pygments_lexer": "ipython3",
   "version": "3.8.7"
  }
 },
 "nbformat": 4,
 "nbformat_minor": 5
}
